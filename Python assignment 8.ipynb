{
 "cells": [
  {
   "cell_type": "markdown",
   "id": "7ad0d115",
   "metadata": {},
   "source": [
    "## 1) Is the Python Standard Library included with PyInputPlus?\n"
   ]
  },
  {
   "cell_type": "markdown",
   "id": "879fd8cf",
   "metadata": {},
   "source": [
    "No, the Python Standard Library is not included with PyInputPlus. PyInputPlus is a separate third-party library that provides additional functionality for taking input from users in Python. It simplifies the process of taking various types of input, such as numbers, dates, and email addresses, and provides input validation and retry mechanisms.\n",
    "\n",
    "The Python Standard Library, on the other hand, is a collection of modules and packages that are included with Python itself. It provides a wide range of functionality, including file I/O, networking, data manipulation, and more. "
   ]
  },
  {
   "cell_type": "markdown",
   "id": "5959bfc3",
   "metadata": {},
   "source": [
    "## 2) Why is PyInputPlus commonly imported with import pyinputplus as pypi?"
   ]
  },
  {
   "cell_type": "markdown",
   "id": "3f79eb54",
   "metadata": {},
   "source": [
    "The import statement import pyinputplus as pypi is not a common convention for importing PyInputPlus. It's likely that the pypi alias is chosen by individual programmers for their own convenience or to avoid naming conflicts with other modules or variables in their code.\n",
    "\n",
    "In general, when importing PyInputPlus, we can use any valid Python identifier as the alias for the module. The alias allows us to refer to the PyInputPlus module using a shorter or more convenient name within our code. For example, some common import statements for PyInputPlus are:\n",
    "\n",
    "import pyinputplus as pyip\n",
    "import pyinputplus as pip\n",
    "import pyinputplus as p\n",
    "\n",
    "By using a shorter alias, it can make the code more readable and reduce typing effort when using the PyInputPlus module. The choice of the alias is subjective and depends on the programmer's preference."
   ]
  },
  {
   "cell_type": "markdown",
   "id": "e2778a75",
   "metadata": {},
   "source": [
    "## 3) How do you distinguish between inputInt() and inputFloat()?"
   ]
  },
  {
   "cell_type": "markdown",
   "id": "c9fb19c3",
   "metadata": {},
   "source": [
    "In PyInputPlus, the functions inputInt() and inputFloat() are used to take input from the user and ensure that the input is of the desired type (integer or float, respectively). Here's how we can distinguish between them:\n",
    "\n",
    "inputInt(prompt=None, default=None, limit=None, timeout=None):\n",
    "\n",
    "We can use this function when we specifically want to prompt the user for an integer input.\n",
    "It will display the provided prompt (if any) and continuously ask the user for input until a valid integer is provided.\n",
    "It returns the entered integer value.\n",
    "\n",
    "Example:\n",
    "\n",
    "import pyinputplus as pyip\n",
    "number = pyip.inputInt(\"Enter an integer: \")\n",
    "print(\"Entered number:\", number)\n",
    "\n",
    "inputFloat(prompt=None, default=None, limit=None, timeout=None):\n",
    "\n",
    "We can use this function when we specifically want to prompt the user for a floating-point input.\n",
    "It will display the provided prompt (if any) and continuously ask the user for input until a valid float is provided.\n",
    "It returns the entered float value.\n",
    "\n",
    "Example:\n",
    "\n",
    "import pyinputplus as pyip\n",
    "number = pyip.inputFloat(\"Enter a float: \")\n",
    "print(\"Entered number:\", number)"
   ]
  },
  {
   "cell_type": "markdown",
   "id": "18dcd6f5",
   "metadata": {},
   "source": [
    "## 4) Using PyInputPlus, how do you ensure that the user enters a whole number between 0 and 99?"
   ]
  },
  {
   "cell_type": "markdown",
   "id": "1f6e8358",
   "metadata": {},
   "source": [
    "To ensure that the user enters a whole number between 0 and 99 using PyInputPlus, we can utilize the inputInt() function along with the min and max parameters. Here's an example:\n",
    "\n",
    "import pyinputplus as pyip\n",
    "number = pyip.inputInt(\"Enter a number between 0 and 99: \", min=0, max=99)\n",
    "print(\"Entered number:\", number)\n",
    "\n",
    "In the above code, the min parameter is set to 0 and the max parameter is set to 99. This restricts the valid input range to be between 0 and 99 (inclusive). If the user enters a value outside of this range or a non-integer value, PyInputPlus will reprompt the user until a valid input is provided."
   ]
  },
  {
   "cell_type": "markdown",
   "id": "c7123ffb",
   "metadata": {},
   "source": [
    "## 5) What is transferred to the keyword arguments allowRegexes and blockRegexes?"
   ]
  },
  {
   "cell_type": "markdown",
   "id": "fa16c1e2",
   "metadata": {},
   "source": [
    "In PyInputPlus, the keyword arguments allowRegexes and blockRegexes are used to specify regular expressions that control the allowed or blocked input patterns, respectively. Here's a brief explanation of what is transferred to these arguments:\n",
    "\n",
    "allowRegexes:\n",
    "\n",
    "This argument accepts a list of regular expressions as its value.\n",
    "Each regular expression in the list represents a pattern that is allowed as input.\n",
    "If provided, PyInputPlus will only accept input that matches at least one of the regular expressions in the allowRegexes list.\n",
    "If the input doesn't match any of the specified regular expressions, PyInputPlus will continue to reprompt the user until a valid input is provided.\n",
    "\n",
    "blockRegexes:\n",
    "\n",
    "This argument also accepts a list of regular expressions as its value.\n",
    "Each regular expression in the list represents a pattern that is blocked or disallowed as input.\n",
    "If provided, PyInputPlus will not accept input that matches any of the regular expressions in the blockRegexes list.\n",
    "If the input matches any of the specified regular expressions, PyInputPlus will reprompt the user until a valid input is provided."
   ]
  },
  {
   "cell_type": "markdown",
   "id": "be766863",
   "metadata": {},
   "source": [
    "## 6) If a blank input is entered three times, what does inputStr(limit=3) do?"
   ]
  },
  {
   "cell_type": "markdown",
   "id": "6c35f677",
   "metadata": {},
   "source": [
    "If a blank input is entered three times consecutively when using inputStr(limit=3) in PyInputPlus, the function will raise a pyinputplus.RetryLimitException exception.\n",
    "\n",
    "The limit parameter in inputStr(limit=3) specifies the maximum number of retries or attempts the user has to provide valid input. In this case, it is set to 3, meaning the user has three chances to provide non-blank input.\n",
    "\n",
    "If the user enters a blank input, PyInputPlus will display an error message indicating that the input cannot be blank and will prompt the user again. If the user fails to provide non-blank input within the specified limit (in this case, three attempts), PyInputPlus will raise the RetryLimitException exception.\n",
    "\n",
    "Here's an example that demonstrates the behavior:\n",
    "\n",
    "import pyinputplus as pyip\n",
    "try:\n",
    "    value = pyip.inputStr(\"Enter a non-blank value: \", limit=3)\n",
    "    print(\"Entered value:\", value)\n",
    "except pyip.RetryLimitException:\n",
    "    print(\"Maximum retry limit reached. Exiting...\")\n",
    "    \n",
    "In this example, if the user enters a blank value three times consecutively, the program will display \"Maximum retry limit reached. Exiting...\" and terminate."
   ]
  },
  {
   "cell_type": "markdown",
   "id": "48a0d214",
   "metadata": {},
   "source": [
    "## 7) If blank input is entered three times, what does inputStr(limit=3, default='hello') do?"
   ]
  },
  {
   "cell_type": "markdown",
   "id": "f3400b59",
   "metadata": {},
   "source": [
    "If blank input is entered three times consecutively when using inputStr(limit=3, default='hello') in PyInputPlus, the function will return the default value 'hello' instead of raising an exception.\n",
    "\n",
    "The limit parameter in inputStr(limit=3, default='hello') specifies the maximum number of retries or attempts the user has to provide valid input. In this case, it is set to 3, meaning the user has three chances to provide non-blank input.\n",
    "\n",
    "If the user enters a blank input, PyInputPlus will display an error message indicating that the input cannot be blank and will prompt the user again. However, if the user fails to provide non-blank input within the specified limit (in this case, three attempts), PyInputPlus will return the default value 'hello' instead of raising an exception.\n",
    "\n",
    "Here's an example that demonstrates the behavior:\n",
    "\n",
    "import pyinputplus as pyip\n",
    "value = pyip.inputStr(\"Enter a non-blank value: \", limit=3, default='hello')\n",
    "print(\"Entered value:\", value)\n",
    "\n",
    "In this example, if the user enters a blank value three times consecutively, the program will assign the default value 'hello' to the value variable and proceed. The output will be \"Entered value: hello\"."
   ]
  }
 ],
 "metadata": {
  "kernelspec": {
   "display_name": "Python 3 (ipykernel)",
   "language": "python",
   "name": "python3"
  },
  "language_info": {
   "codemirror_mode": {
    "name": "ipython",
    "version": 3
   },
   "file_extension": ".py",
   "mimetype": "text/x-python",
   "name": "python",
   "nbconvert_exporter": "python",
   "pygments_lexer": "ipython3",
   "version": "3.9.13"
  }
 },
 "nbformat": 4,
 "nbformat_minor": 5
}
